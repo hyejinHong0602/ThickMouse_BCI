{
 "cells": [
  {
   "cell_type": "code",
   "execution_count": 19,
   "id": "2b1dc997",
   "metadata": {},
   "outputs": [
    {
     "name": "stdout",
     "output_type": "stream",
     "text": [
      "Time\t0.\n",
      "오후 5:26\n",
      "오후 5:26\n",
      "오후 5:26\n",
      "\n"
     ]
    }
   ],
   "source": [
    "from datetime import datetime\n",
    "import pandas as pd\n",
    "from time import sleep\n",
    "\n",
    "now = datetime.now()\n",
    "\n",
    "# 파일 이름 만들어주기 \n",
    "if int(now.hour) > 12:\n",
    "    hour = int(now.hour)-12\n",
    "    file_name = now.strftime('%Y-%m-%d_'+'오후 '+str(hour)+'_%M')\n",
    "elif int(now.hour) == 12:\n",
    "    file_name = now.strftime('%Y-%m-%d_'+'오후 '+'%H_%M')\n",
    "else :\n",
    "    file_name = now.strftime('%Y-%m-%d_'+'오전 '+'%H_%M')\n",
    "\n",
    "f = open(\"C:/MAVE_RawData/\"+file_name+\"/Fp1_FFT.txt\", \"r\")\n",
    "# f = open(\"C:/MAVE_RawData/2022-06-04_오후 2_28/Fp1_FFT.txt\", \"r\")\n",
    "\n",
    "while True:\n",
    "#     new_df = pd.DataFrame(data)\n",
    "    line = f.readline().strip()\n",
    "    print(line[0:7])\n",
    "#     sleep(1) # 이 사이 간격을 어떻게 조절해야할지 잘 모르겠음. 데이터 만들어지는대로 가져오는건 가능. \n",
    "    if not line: \n",
    "        break\n"
   ]
  },
  {
   "cell_type": "code",
   "execution_count": null,
   "id": "7f4f6e67",
   "metadata": {},
   "outputs": [],
   "source": []
  }
 ],
 "metadata": {
  "kernelspec": {
   "display_name": "Python 3 (ipykernel)",
   "language": "python",
   "name": "python3"
  },
  "language_info": {
   "codemirror_mode": {
    "name": "ipython",
    "version": 3
   },
   "file_extension": ".py",
   "mimetype": "text/x-python",
   "name": "python",
   "nbconvert_exporter": "python",
   "pygments_lexer": "ipython3",
   "version": "3.9.12"
  }
 },
 "nbformat": 4,
 "nbformat_minor": 5
}
